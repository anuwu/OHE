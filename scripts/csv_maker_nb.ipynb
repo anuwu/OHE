{
 "cells": [
  {
   "cell_type": "markdown",
   "id": "696409d0",
   "metadata": {},
   "source": [
    "## Import"
   ]
  },
  {
   "cell_type": "code",
   "execution_count": 1,
   "id": "a5719113",
   "metadata": {},
   "outputs": [],
   "source": [
    "import pandas as pd"
   ]
  },
  {
   "cell_type": "markdown",
   "id": "daa7026b",
   "metadata": {},
   "source": [
    "## Parse String to Number"
   ]
  },
  {
   "cell_type": "code",
   "execution_count": 2,
   "id": "d695e4d4",
   "metadata": {},
   "outputs": [],
   "source": [
    "## Taken from https://medium.com/@Doug-Creates/convert-string-to-float-or-int-in-python-0d93ce89d7b1\n",
    "\n",
    "def parse_string_to_number(input_string) :\n",
    "    try:\n",
    "        # Attempt to convert the string to an int\n",
    "        return int(input_string)\n",
    "    except ValueError:\n",
    "        # If int conversion fails, attempt to convert to float\n",
    "        try:\n",
    "            return float(input_string)\n",
    "        except ValueError:\n",
    "            # If both conversions fail, return an error message\n",
    "            return 'Error: Cannot convert to int or float'"
   ]
  },
  {
   "cell_type": "markdown",
   "id": "6f00c610",
   "metadata": {},
   "source": [
    "## Read file"
   ]
  },
  {
   "cell_type": "code",
   "execution_count": 3,
   "id": "bba71515",
   "metadata": {},
   "outputs": [],
   "source": [
    "file = open(\"out.txt\", \"r\")\n",
    "text = file.read()\n",
    "lines = text.split('\\n')\n",
    "no_lines = len(lines)"
   ]
  },
  {
   "cell_type": "markdown",
   "id": "fe86ccc4",
   "metadata": {},
   "source": [
    "## Functions for parsing lines"
   ]
  },
  {
   "cell_type": "code",
   "execution_count": 4,
   "id": "c997c6dc",
   "metadata": {},
   "outputs": [],
   "source": [
    "def get_n_from_line(ln) :\n",
    "    index1 = ln.find('=') + 2\n",
    "    index2 = ln.find('---') - 1\n",
    "    return int(ln[index1:index2])\n",
    "    \n",
    "def get_attr_from_line(ln) :\n",
    "    colon_index = ln.find(':')\n",
    "    label = ln[:colon_index-1]\n",
    "    rem = ln[colon_index+2:]\n",
    "    space_index = rem.find(' ')\n",
    "    val = rem[:space_index]\n",
    "    unit = rem[space_index+1:]\n",
    "    return label, unit, parse_string_to_number(val)"
   ]
  },
  {
   "cell_type": "markdown",
   "id": "f5b3c0cd",
   "metadata": {},
   "source": [
    "## Parse outputs"
   ]
  },
  {
   "cell_type": "code",
   "execution_count": 5,
   "id": "e3224dab",
   "metadata": {},
   "outputs": [],
   "source": [
    "# Attributes for first n\n",
    "i = 1\n",
    "col_names = ['n']\n",
    "col_types = ['int']\n",
    "data = [[get_n_from_line(lines[0])]]\n",
    "while lines[i].find(\"---\") == -1 :\n",
    "    label, unit, val = get_attr_from_line(lines[i])\n",
    "    col_names = col_names + [f\"{label} ({unit})\"]\n",
    "    data = data + [[val]]\n",
    "    col_type = 'float' if unit == 'ms' else 'int'\n",
    "    col_types.append(col_type)\n",
    "    i += 1\n",
    "no_attrs = i-1\n",
    "\n",
    "# Attributes for remaining n\n",
    "while i <= no_lines :\n",
    "    if lines[i] == '' :\n",
    "        break\n",
    "    n = get_n_from_line(lines[i])\n",
    "    data[0].append(parse_string_to_number(n))\n",
    "    for j in range(1, no_attrs+1) :\n",
    "        _, _, val = get_attr_from_line(lines[i+j])\n",
    "        data[j].append(val)\n",
    "    i += no_attrs+1"
   ]
  },
  {
   "cell_type": "markdown",
   "id": "243dd0c3",
   "metadata": {},
   "source": [
    "## Create dataframe"
   ]
  },
  {
   "cell_type": "code",
   "execution_count": 6,
   "id": "a242ce1a",
   "metadata": {},
   "outputs": [],
   "source": [
    "df = pd.DataFrame(data, index=col_names).T\n",
    "for c, t in zip(col_names, col_types) :\n",
    "    df[c] = df[c].astype(t)"
   ]
  },
  {
   "cell_type": "markdown",
   "id": "71bbd7dc",
   "metadata": {},
   "source": [
    "## Display dataframe"
   ]
  },
  {
   "cell_type": "code",
   "execution_count": 7,
   "id": "535c66d0",
   "metadata": {},
   "outputs": [
    {
     "data": {
      "text/html": [
       "<div>\n",
       "<style scoped>\n",
       "    .dataframe tbody tr th:only-of-type {\n",
       "        vertical-align: middle;\n",
       "    }\n",
       "\n",
       "    .dataframe tbody tr th {\n",
       "        vertical-align: top;\n",
       "    }\n",
       "\n",
       "    .dataframe thead th {\n",
       "        text-align: right;\n",
       "    }\n",
       "</style>\n",
       "<table border=\"1\" class=\"dataframe\">\n",
       "  <thead>\n",
       "    <tr style=\"text-align: right;\">\n",
       "      <th></th>\n",
       "      <th>n</th>\n",
       "      <th>Pre-comm (bytes)</th>\n",
       "      <th>Fixed time (ms)</th>\n",
       "      <th>Fixed comm (bytes)</th>\n",
       "    </tr>\n",
       "  </thead>\n",
       "  <tbody>\n",
       "    <tr>\n",
       "      <th>0</th>\n",
       "      <td>4</td>\n",
       "      <td>951543</td>\n",
       "      <td>4624.559</td>\n",
       "      <td>1504537</td>\n",
       "    </tr>\n",
       "    <tr>\n",
       "      <th>1</th>\n",
       "      <td>5</td>\n",
       "      <td>951543</td>\n",
       "      <td>4538.240</td>\n",
       "      <td>1504539</td>\n",
       "    </tr>\n",
       "    <tr>\n",
       "      <th>2</th>\n",
       "      <td>6</td>\n",
       "      <td>951543</td>\n",
       "      <td>4561.266</td>\n",
       "      <td>1504543</td>\n",
       "    </tr>\n",
       "    <tr>\n",
       "      <th>3</th>\n",
       "      <td>7</td>\n",
       "      <td>951543</td>\n",
       "      <td>4512.719</td>\n",
       "      <td>1504551</td>\n",
       "    </tr>\n",
       "    <tr>\n",
       "      <th>4</th>\n",
       "      <td>8</td>\n",
       "      <td>951543</td>\n",
       "      <td>4624.311</td>\n",
       "      <td>1504567</td>\n",
       "    </tr>\n",
       "  </tbody>\n",
       "</table>\n",
       "</div>"
      ],
      "text/plain": [
       "   n  Pre-comm (bytes)  Fixed time (ms)  Fixed comm (bytes)\n",
       "0  4            951543         4624.559             1504537\n",
       "1  5            951543         4538.240             1504539\n",
       "2  6            951543         4561.266             1504543\n",
       "3  7            951543         4512.719             1504551\n",
       "4  8            951543         4624.311             1504567"
      ]
     },
     "execution_count": 7,
     "metadata": {},
     "output_type": "execute_result"
    }
   ],
   "source": [
    "df"
   ]
  },
  {
   "cell_type": "markdown",
   "id": "d44c244c",
   "metadata": {},
   "source": [
    "## Save dataframe to CSV"
   ]
  },
  {
   "cell_type": "code",
   "execution_count": 8,
   "id": "b5b871b5",
   "metadata": {},
   "outputs": [],
   "source": [
    "df.to_csv(\"out.csv\", index=False)"
   ]
  }
 ],
 "metadata": {
  "kernelspec": {
   "display_name": "Python 3 (ipykernel)",
   "language": "python",
   "name": "python3"
  },
  "language_info": {
   "codemirror_mode": {
    "name": "ipython",
    "version": 3
   },
   "file_extension": ".py",
   "mimetype": "text/x-python",
   "name": "python",
   "nbconvert_exporter": "python",
   "pygments_lexer": "ipython3",
   "version": "3.11.5"
  }
 },
 "nbformat": 4,
 "nbformat_minor": 5
}
