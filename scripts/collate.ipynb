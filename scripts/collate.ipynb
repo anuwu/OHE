{
 "cells": [
  {
   "cell_type": "markdown",
   "id": "b4b302e9",
   "metadata": {},
   "source": [
    "## Import"
   ]
  },
  {
   "cell_type": "code",
   "execution_count": 52,
   "id": "012176ef",
   "metadata": {},
   "outputs": [],
   "source": [
    "import pandas as pd"
   ]
  },
  {
   "cell_type": "markdown",
   "id": "e690daae",
   "metadata": {},
   "source": [
    "## Fixed p"
   ]
  },
  {
   "cell_type": "code",
   "execution_count": 54,
   "id": "32f663bd",
   "metadata": {},
   "outputs": [
    {
     "name": "stdout",
     "output_type": "stream",
     "text": [
      "simple_comm\n",
      "iknp_comm\n",
      "otnp_comm\n",
      "ferret_comm\n"
     ]
    }
   ],
   "source": [
    "tool = \"gmt\"\n",
    "df1 = pd.read_csv(f\"ppohe_fixp_{tool}_1.csv\")\n",
    "df2 = pd.read_csv(f\"ppohe_fixp_{tool}_2.csv\")\n",
    "df = df1.copy()\n",
    "\n",
    "for col in df1.columns[1:-1:2] :\n",
    "    df[col] = (df1[col] + df2[col])/2\n",
    "    \n",
    "for col in df1.columns[2::2] :\n",
    "    df[col] = df1[col] + df2[col]\n",
    "    \n",
    "df.to_csv(f\"bench/ppohe_fixp_{tool}.csv\", index=False)"
   ]
  },
  {
   "cell_type": "markdown",
   "id": "e9f91a68",
   "metadata": {},
   "source": [
    "# Fixed n"
   ]
  },
  {
   "cell_type": "code",
   "execution_count": 98,
   "id": "b741bac9",
   "metadata": {},
   "outputs": [],
   "source": [
    "tool = \"gmt\"\n",
    "\n",
    "# ot = \"simple\"\n",
    "# party = 1\n",
    "# parties = 4\n",
    "\n",
    "dic = {}\n",
    "dic[\"parties\"] = list(range(2, 9))\n",
    "\n",
    "for ot in [\"ferret\"] :\n",
    "    ot_time, ot_comm = [], []\n",
    "    for parties in range(2, 9) :\n",
    "        times, comms = [], []\n",
    "        for party in range(1, parties + 1) :\n",
    "\n",
    "            time, comm = None, None\n",
    "            with open(f\"bench/ppohe_{ot}_{tool}_{party}_{parties}.txt\") as file :\n",
    "                st = file.read()\n",
    "                # print(st)\n",
    "                split = st.split('\\n')\n",
    "                time_st = split[-3]\n",
    "                comm_st = split[-2]\n",
    "                time = time_st[time_st.find(\":\")+2:time_st.find(\"ms\")-1]\n",
    "                comm = comm_st[comm_st.find(\":\")+2:comm_st.find(\"bytes\")-1]\n",
    "                file.close()\n",
    "\n",
    "            times.append(float(time))\n",
    "            comms.append(int(comm))\n",
    "            \n",
    "        ot_time.append(sum(times)/len(times))\n",
    "        ot_comm.append(sum(comms))\n",
    "    \n",
    "    dic[ot + \"_time\"] = ot_time\n",
    "    dic[ot + \"_comm\"] = ot_comm\n",
    "    \n",
    "df = pd.DataFrame(dic)"
   ]
  },
  {
   "cell_type": "code",
   "execution_count": 90,
   "id": "58216e7c",
   "metadata": {},
   "outputs": [],
   "source": [
    "# df.to_csv(f\"bench/ppohe_fixn_gmt.csv\", index=False)"
   ]
  },
  {
   "cell_type": "code",
   "execution_count": 99,
   "id": "a900020f",
   "metadata": {},
   "outputs": [
    {
     "data": {
      "text/html": [
       "<div>\n",
       "<style scoped>\n",
       "    .dataframe tbody tr th:only-of-type {\n",
       "        vertical-align: middle;\n",
       "    }\n",
       "\n",
       "    .dataframe tbody tr th {\n",
       "        vertical-align: top;\n",
       "    }\n",
       "\n",
       "    .dataframe thead th {\n",
       "        text-align: right;\n",
       "    }\n",
       "</style>\n",
       "<table border=\"1\" class=\"dataframe\">\n",
       "  <thead>\n",
       "    <tr style=\"text-align: right;\">\n",
       "      <th></th>\n",
       "      <th>parties</th>\n",
       "      <th>ferret_time</th>\n",
       "      <th>ferret_comm</th>\n",
       "    </tr>\n",
       "  </thead>\n",
       "  <tbody>\n",
       "    <tr>\n",
       "      <th>0</th>\n",
       "      <td>2</td>\n",
       "      <td>2433.495000</td>\n",
       "      <td>1528725</td>\n",
       "    </tr>\n",
       "    <tr>\n",
       "      <th>1</th>\n",
       "      <td>3</td>\n",
       "      <td>3415.203333</td>\n",
       "      <td>4586175</td>\n",
       "    </tr>\n",
       "    <tr>\n",
       "      <th>2</th>\n",
       "      <td>4</td>\n",
       "      <td>5751.852500</td>\n",
       "      <td>9172350</td>\n",
       "    </tr>\n",
       "    <tr>\n",
       "      <th>3</th>\n",
       "      <td>5</td>\n",
       "      <td>9209.620000</td>\n",
       "      <td>15287250</td>\n",
       "    </tr>\n",
       "    <tr>\n",
       "      <th>4</th>\n",
       "      <td>6</td>\n",
       "      <td>13991.650000</td>\n",
       "      <td>22930875</td>\n",
       "    </tr>\n",
       "    <tr>\n",
       "      <th>5</th>\n",
       "      <td>7</td>\n",
       "      <td>21567.952857</td>\n",
       "      <td>32103225</td>\n",
       "    </tr>\n",
       "    <tr>\n",
       "      <th>6</th>\n",
       "      <td>8</td>\n",
       "      <td>24686.532500</td>\n",
       "      <td>42804300</td>\n",
       "    </tr>\n",
       "  </tbody>\n",
       "</table>\n",
       "</div>"
      ],
      "text/plain": [
       "   parties   ferret_time  ferret_comm\n",
       "0        2   2433.495000      1528725\n",
       "1        3   3415.203333      4586175\n",
       "2        4   5751.852500      9172350\n",
       "3        5   9209.620000     15287250\n",
       "4        6  13991.650000     22930875\n",
       "5        7  21567.952857     32103225\n",
       "6        8  24686.532500     42804300"
      ]
     },
     "execution_count": 99,
     "metadata": {},
     "output_type": "execute_result"
    }
   ],
   "source": [
    "df"
   ]
  },
  {
   "cell_type": "code",
   "execution_count": null,
   "id": "9dec52c3",
   "metadata": {},
   "outputs": [],
   "source": []
  }
 ],
 "metadata": {
  "kernelspec": {
   "display_name": "Python 3 (ipykernel)",
   "language": "python",
   "name": "python3"
  },
  "language_info": {
   "codemirror_mode": {
    "name": "ipython",
    "version": 3
   },
   "file_extension": ".py",
   "mimetype": "text/x-python",
   "name": "python",
   "nbconvert_exporter": "python",
   "pygments_lexer": "ipython3",
   "version": "3.11.5"
  }
 },
 "nbformat": 4,
 "nbformat_minor": 5
}
